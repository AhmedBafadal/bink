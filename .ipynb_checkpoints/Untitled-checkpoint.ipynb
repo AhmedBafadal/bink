{
 "cells": [
  {
   "cell_type": "code",
   "execution_count": 2,
   "metadata": {},
   "outputs": [],
   "source": [
    "import csv\n"
   ]
  },
  {
   "cell_type": "code",
   "execution_count": 29,
   "metadata": {},
   "outputs": [
    {
     "name": "stdout",
     "output_type": "stream",
     "text": [
      "[['Beecroft Hill', 'Broad Lane', '', '', 'LS13', 'Beecroft Hill - Telecom App', 'Arqiva Services ltd', '01 Mar 1994', '28 Feb 2058', '64', 23950.0, 6600.0, 12250.0, 9500.0, 12000.0, 12750.0, 12750.0, 12750.0, 12750.0, 12750.0, 12750.0, 12750.0, 12750.0, 14730.08, 15296.63, 14730.08, 14730.08, 14730.08, 28327.09, 14730.08, 14730.08, 14730.08, 14730.08, 15296.63, 12750.0, 13000.0, 15000.0, 15000.0, 15000.0, 15000.0, 15000.0, 15000.0, 15000.0, 17000.0, 15000.0, 15000.0, 17000.0, 15000.0, 15000.0, 15000.0, 22500.0, 15000.0], ['Potternewton Crescent', 'Potternewton Est Playing Field', '', '', 'LS7', 'Potternewton Est Playing Field', 'Arqiva Ltd', '24 Jun 1999', '23 Jun 2019', '20', 23950.0, 6600.0, 12250.0, 9500.0, 12000.0, 12750.0, 12750.0, 12750.0, 12750.0, 12750.0, 12750.0, 12750.0, 12750.0, 14730.08, 15296.63, 14730.08, 14730.08, 14730.08, 28327.09, 14730.08, 14730.08, 14730.08, 14730.08, 15296.63, 12750.0, 13000.0, 15000.0, 15000.0, 15000.0, 15000.0, 15000.0, 15000.0, 15000.0, 17000.0, 15000.0, 15000.0, 17000.0, 15000.0, 15000.0, 15000.0, 22500.0, 15000.0], ['Seacroft Gate (Chase) - Block 2', 'Telecomms Apparatus', 'Leeds', '', 'LS14', 'Seacroft Gate (Chase) block 2-Telecom App.', 'Vodafone Ltd.', '30 Jan 2004', '29 Jan 2029', '25', 23950.0, 6600.0, 12250.0, 9500.0, 12000.0, 12750.0, 12750.0, 12750.0, 12750.0, 12750.0, 12750.0, 12750.0, 12750.0, 14730.08, 15296.63, 14730.08, 14730.08, 14730.08, 28327.09, 14730.08, 14730.08, 14730.08, 14730.08, 15296.63, 12750.0, 13000.0, 15000.0, 15000.0, 15000.0, 15000.0, 15000.0, 15000.0, 15000.0, 17000.0, 15000.0, 15000.0, 17000.0, 15000.0, 15000.0, 15000.0, 22500.0, 15000.0], ['Queenswood Heights', 'Queenswood Heights', 'Queenswood Gardens', 'Headingley', 'Leeds', 'Queenswood Hgt-Telecom App.', 'Vodafone Ltd', '08 Nov 2004', '07 Nov 2029', '25', 23950.0, 6600.0, 12250.0, 9500.0, 12000.0, 12750.0, 12750.0, 12750.0, 12750.0, 12750.0, 12750.0, 12750.0, 12750.0, 14730.08, 15296.63, 14730.08, 14730.08, 14730.08, 28327.09, 14730.08, 14730.08, 14730.08, 14730.08, 15296.63, 12750.0, 13000.0, 15000.0, 15000.0, 15000.0, 15000.0, 15000.0, 15000.0, 15000.0, 17000.0, 15000.0, 15000.0, 17000.0, 15000.0, 15000.0, 15000.0, 22500.0, 15000.0], ['Armley - Burnsall Grange', 'Armley', 'LS13', '', '', 'Burnsall Grange CSR 37865', 'O2 (UK) Ltd', '26 Jul 2007', '25 Jul 2032', '25', 23950.0, 6600.0, 12250.0, 9500.0, 12000.0, 12750.0, 12750.0, 12750.0, 12750.0, 12750.0, 12750.0, 12750.0, 12750.0, 14730.08, 15296.63, 14730.08, 14730.08, 14730.08, 28327.09, 14730.08, 14730.08, 14730.08, 14730.08, 15296.63, 12750.0, 13000.0, 15000.0, 15000.0, 15000.0, 15000.0, 15000.0, 15000.0, 15000.0, 17000.0, 15000.0, 15000.0, 17000.0, 15000.0, 15000.0, 15000.0, 22500.0, 15000.0], ['Seacroft Gate (Chase) - Block 2', 'Telecomms Apparatus', 'Leeds', '', 'LS14', 'Seacroft Gate (Chase) - Block 2, WYK 0414', 'Hutchinson3G Uk Ltd&Everything Everywhere Ltd', '21 Aug 2007', '20 Aug 2032', '25', 23950.0, 6600.0, 12250.0, 9500.0, 12000.0, 12750.0, 12750.0, 12750.0, 12750.0, 12750.0, 12750.0, 12750.0, 12750.0, 14730.08, 15296.63, 14730.08, 14730.08, 14730.08, 28327.09, 14730.08, 14730.08, 14730.08, 14730.08, 15296.63, 12750.0, 13000.0, 15000.0, 15000.0, 15000.0, 15000.0, 15000.0, 15000.0, 15000.0, 17000.0, 15000.0, 15000.0, 17000.0, 15000.0, 15000.0, 15000.0, 22500.0, 15000.0], ['Cottingley Towers', 'Leeds', '', '', 'LS11', 'Cottingley Towers-WYK0052', 'Everything Everywhere Ltd', '28 Jan 2008', '27 Jan 2018', '10', 23950.0, 6600.0, 12250.0, 9500.0, 12000.0, 12750.0, 12750.0, 12750.0, 12750.0, 12750.0, 12750.0, 12750.0, 12750.0, 14730.08, 15296.63, 14730.08, 14730.08, 14730.08, 28327.09, 14730.08, 14730.08, 14730.08, 14730.08, 15296.63, 12750.0, 13000.0, 15000.0, 15000.0, 15000.0, 15000.0, 15000.0, 15000.0, 15000.0, 17000.0, 15000.0, 15000.0, 17000.0, 15000.0, 15000.0, 15000.0, 22500.0, 15000.0], ['Potternewton Heights - Tel App', 'Potternewton Heights', 'Potternewton Lne', 'Leeds', '', 'Potternewton Heights', 'Everything Everywhere Ltd', '04 Mar 2008', '03 Mar 2018', '10', 23950.0, 6600.0, 12250.0, 9500.0, 12000.0, 12750.0, 12750.0, 12750.0, 12750.0, 12750.0, 12750.0, 12750.0, 12750.0, 14730.08, 15296.63, 14730.08, 14730.08, 14730.08, 28327.09, 14730.08, 14730.08, 14730.08, 14730.08, 15296.63, 12750.0, 13000.0, 15000.0, 15000.0, 15000.0, 15000.0, 15000.0, 15000.0, 15000.0, 17000.0, 15000.0, 15000.0, 17000.0, 15000.0, 15000.0, 15000.0, 22500.0, 15000.0], ['Gipton Gate West', 'Leeds', '', '', 'LS9', 'Gipton Gate West-WYK0021', 'Everything Everywhere Ltd & Hutchinson 3G UK', '01 Apr 2008', '31 Mar 2018', '10', 23950.0, 6600.0, 12250.0, 9500.0, 12000.0, 12750.0, 12750.0, 12750.0, 12750.0, 12750.0, 12750.0, 12750.0, 12750.0, 14730.08, 15296.63, 14730.08, 14730.08, 14730.08, 28327.09, 14730.08, 14730.08, 14730.08, 14730.08, 15296.63, 12750.0, 13000.0, 15000.0, 15000.0, 15000.0, 15000.0, 15000.0, 15000.0, 15000.0, 17000.0, 15000.0, 15000.0, 17000.0, 15000.0, 15000.0, 15000.0, 22500.0, 15000.0], ['Theaker Lane', 'Burnsall Grange', 'Leeds', '', 'LS12', 'Burnsall Grange - WYK0144', 'Everything Everywhere Ltd', '29 Apr 2008', '28 Apr 2018', '10', 23950.0, 6600.0, 12250.0, 9500.0, 12000.0, 12750.0, 12750.0, 12750.0, 12750.0, 12750.0, 12750.0, 12750.0, 12750.0, 14730.08, 15296.63, 14730.08, 14730.08, 14730.08, 28327.09, 14730.08, 14730.08, 14730.08, 14730.08, 15296.63, 12750.0, 13000.0, 15000.0, 15000.0, 15000.0, 15000.0, 15000.0, 15000.0, 15000.0, 17000.0, 15000.0, 15000.0, 17000.0, 15000.0, 15000.0, 15000.0, 22500.0, 15000.0], ['Gledhow Towers - Telecom App', 'Brackenwood Drive', 'Leeds', '', '', 'Gledhow Towers - WYK0188', 'Everything Everywhere Ltd & Hutchinson 3G UK', '20 May 2008', '19 May 2018', '10', 23950.0, 6600.0, 12250.0, 9500.0, 12000.0, 12750.0, 12750.0, 12750.0, 12750.0, 12750.0, 12750.0, 12750.0, 12750.0, 14730.08, 15296.63, 14730.08, 14730.08, 14730.08, 28327.09, 14730.08, 14730.08, 14730.08, 14730.08, 15296.63, 12750.0, 13000.0, 15000.0, 15000.0, 15000.0, 15000.0, 15000.0, 15000.0, 15000.0, 17000.0, 15000.0, 15000.0, 17000.0, 15000.0, 15000.0, 15000.0, 22500.0, 15000.0], ['Lovell Park Heights', 'Yeb', '', '', 'LS7', 'Lovell Park Heights-- WYK0207', 'Everything Everywhere Ltd', '17 Jun 2008', '16 Jun 2018', '10', 23950.0, 6600.0, 12250.0, 9500.0, 12000.0, 12750.0, 12750.0, 12750.0, 12750.0, 12750.0, 12750.0, 12750.0, 12750.0, 14730.08, 15296.63, 14730.08, 14730.08, 14730.08, 28327.09, 14730.08, 14730.08, 14730.08, 14730.08, 15296.63, 12750.0, 13000.0, 15000.0, 15000.0, 15000.0, 15000.0, 15000.0, 15000.0, 15000.0, 17000.0, 15000.0, 15000.0, 17000.0, 15000.0, 15000.0, 15000.0, 22500.0, 15000.0], ['Shakespeare Towers', '', '', '', 'LS9', 'Shakespeare Towers ref 1704255985', 'EverythingEverywhere Ltd & Hutchinson3GUK Ltd', '10 Jun 2009', '09 Jun 2019', '10', 23950.0, 6600.0, 12250.0, 9500.0, 12000.0, 12750.0, 12750.0, 12750.0, 12750.0, 12750.0, 12750.0, 12750.0, 12750.0, 14730.08, 15296.63, 14730.08, 14730.08, 14730.08, 28327.09, 14730.08, 14730.08, 14730.08, 14730.08, 15296.63, 12750.0, 13000.0, 15000.0, 15000.0, 15000.0, 15000.0, 15000.0, 15000.0, 15000.0, 17000.0, 15000.0, 15000.0, 17000.0, 15000.0, 15000.0, 15000.0, 22500.0, 15000.0], ['Grayson Heights', 'Eden Mount', 'Burley Park', 'Leeds', 'LS5', 'Grayson Heights LDS175   LS0029', 'Everything Everywhere Ltd&Hutchison 3G UK Ltd', '01 Aug 2009', '31 Jul 2019', '10', 23950.0, 6600.0, 12250.0, 9500.0, 12000.0, 12750.0, 12750.0, 12750.0, 12750.0, 12750.0, 12750.0, 12750.0, 12750.0, 14730.08, 15296.63, 14730.08, 14730.08, 14730.08, 28327.09, 14730.08, 14730.08, 14730.08, 14730.08, 15296.63, 12750.0, 13000.0, 15000.0, 15000.0, 15000.0, 15000.0, 15000.0, 15000.0, 15000.0, 17000.0, 15000.0, 15000.0, 17000.0, 15000.0, 15000.0, 15000.0, 22500.0, 15000.0], ['Oatland Towers', 'Little London', '', 'Leeds', '', 'Oatland Towers LDS133   99603', 'Everything Everywhere Ltd&Hutchison 3G UK Ltd', '01 Aug 2009', '31 Jul 2019', '10', 23950.0, 6600.0, 12250.0, 9500.0, 12000.0, 12750.0, 12750.0, 12750.0, 12750.0, 12750.0, 12750.0, 12750.0, 12750.0, 14730.08, 15296.63, 14730.08, 14730.08, 14730.08, 28327.09, 14730.08, 14730.08, 14730.08, 14730.08, 15296.63, 12750.0, 13000.0, 15000.0, 15000.0, 15000.0, 15000.0, 15000.0, 15000.0, 15000.0, 17000.0, 15000.0, 15000.0, 17000.0, 15000.0, 15000.0, 15000.0, 22500.0, 15000.0], ['The Heights East', 'Gamble Hill', 'Bramley', 'Leeds 12', '', 'The Heights East LDS045   55032', 'Everything Everywhere Ltd&Hutchison 3G UK Ltd', '01 Aug 2009', '31 Jul 2019', '10', 23950.0, 6600.0, 12250.0, 9500.0, 12000.0, 12750.0, 12750.0, 12750.0, 12750.0, 12750.0, 12750.0, 12750.0, 12750.0, 14730.08, 15296.63, 14730.08, 14730.08, 14730.08, 28327.09, 14730.08, 14730.08, 14730.08, 14730.08, 15296.63, 12750.0, 13000.0, 15000.0, 15000.0, 15000.0, 15000.0, 15000.0, 15000.0, 15000.0, 17000.0, 15000.0, 15000.0, 17000.0, 15000.0, 15000.0, 15000.0, 22500.0, 15000.0], ['The Heights', 'Farrow Bank Gamble Hill', 'Leeds', '', '', 'Raynville Court LDS047   55035', 'Everything Everywhere Ltd&Hutchison 3G UK LTd', '01 Aug 2009', '31 Jul 2019', '10', 23950.0, 6600.0, 12250.0, 9500.0, 12000.0, 12750.0, 12750.0, 12750.0, 12750.0, 12750.0, 12750.0, 12750.0, 12750.0, 14730.08, 15296.63, 14730.08, 14730.08, 14730.08, 28327.09, 14730.08, 14730.08, 14730.08, 14730.08, 15296.63, 12750.0, 13000.0, 15000.0, 15000.0, 15000.0, 15000.0, 15000.0, 15000.0, 15000.0, 17000.0, 15000.0, 15000.0, 17000.0, 15000.0, 15000.0, 15000.0, 22500.0, 15000.0], ['Barncroft Towers', 'Seacroft', 'Yeb Ref 10462', '', 'LS14', 'Barncroft Towers - Site Ref LDS138   99632', 'Everything Everywhere Ltd&Hutchison 3G UK Ltd', '01 Aug 2009', '31 Jul 2019', '10', 23950.0, 6600.0, 12250.0, 9500.0, 12000.0, 12750.0, 12750.0, 12750.0, 12750.0, 12750.0, 12750.0, 12750.0, 12750.0, 14730.08, 15296.63, 14730.08, 14730.08, 14730.08, 28327.09, 14730.08, 14730.08, 14730.08, 14730.08, 15296.63, 12750.0, 13000.0, 15000.0, 15000.0, 15000.0, 15000.0, 15000.0, 15000.0, 15000.0, 17000.0, 15000.0, 15000.0, 17000.0, 15000.0, 15000.0, 15000.0, 22500.0, 15000.0], ['Queens View', 'Seacroft', '', '', 'LS14', 'Queens View LDS232   LS0098', 'Everything Everywhere Ltd&Hutchison 3G UK Ltd', '01 Aug 2009', '31 Jul 2019', '10', 23950.0, 6600.0, 12250.0, 9500.0, 12000.0, 12750.0, 12750.0, 12750.0, 12750.0, 12750.0, 12750.0, 12750.0, 12750.0, 14730.08, 15296.63, 14730.08, 14730.08, 14730.08, 28327.09, 14730.08, 14730.08, 14730.08, 14730.08, 15296.63, 12750.0, 13000.0, 15000.0, 15000.0, 15000.0, 15000.0, 15000.0, 15000.0, 15000.0, 17000.0, 15000.0, 15000.0, 17000.0, 15000.0, 15000.0, 15000.0, 22500.0, 15000.0], ['Parkway Grange', 'Foundry Lane', 'Leeds', '', 'LS14', 'Parkway Grange - Site Ref LDS134   99604', 'Everything Everywhere Ltd&Hutchsion 3G UK Ltd', '01 Aug 2009', '31 Jul 2019', '10', 23950.0, 6600.0, 12250.0, 9500.0, 12000.0, 12750.0, 12750.0, 12750.0, 12750.0, 12750.0, 12750.0, 12750.0, 12750.0, 14730.08, 15296.63, 14730.08, 14730.08, 14730.08, 28327.09, 14730.08, 14730.08, 14730.08, 14730.08, 15296.63, 12750.0, 13000.0, 15000.0, 15000.0, 15000.0, 15000.0, 15000.0, 15000.0, 15000.0, 17000.0, 15000.0, 15000.0, 17000.0, 15000.0, 15000.0, 15000.0, 22500.0, 15000.0], ['Seacroft Gate Block 1', 'Eastdean', 'Leeds', '', '', 'Seacroft Gate Block 1 LDS032   55007', 'Everything Everywhere Ltd&Hutchison 3G UK Ltd', '01 Aug 2009', '31 Jul 2019', '10', 23950.0, 6600.0, 12250.0, 9500.0, 12000.0, 12750.0, 12750.0, 12750.0, 12750.0, 12750.0, 12750.0, 12750.0, 12750.0, 14730.08, 15296.63, 14730.08, 14730.08, 14730.08, 28327.09, 14730.08, 14730.08, 14730.08, 14730.08, 15296.63, 12750.0, 13000.0, 15000.0, 15000.0, 15000.0, 15000.0, 15000.0, 15000.0, 15000.0, 17000.0, 15000.0, 15000.0, 17000.0, 15000.0, 15000.0, 15000.0, 22500.0, 15000.0], ['Cartmell Drive', 'Halton Moor', 'Leeds', '', 'LS15', 'Lakeland Court Flats Cell LDS142   99925', 'Everything Everywhere Ltd&Hutchison 3G UK Ltd', '01 Aug 2009', '31 Jul 2019', '10', 23950.0, 6600.0, 12250.0, 9500.0, 12000.0, 12750.0, 12750.0, 12750.0, 12750.0, 12750.0, 12750.0, 12750.0, 12750.0, 14730.08, 15296.63, 14730.08, 14730.08, 14730.08, 28327.09, 14730.08, 14730.08, 14730.08, 14730.08, 15296.63, 12750.0, 13000.0, 15000.0, 15000.0, 15000.0, 15000.0, 15000.0, 15000.0, 15000.0, 17000.0, 15000.0, 15000.0, 17000.0, 15000.0, 15000.0, 15000.0, 22500.0, 15000.0], ['Norman Towers (Telecom Appar)', 'Spen Lane', 'Leeds', '', 'LS16', 'Norman Towers LDS132 (Telecom Appar)   99448', 'Everything Everywhere Ltd&Hutchsion 3G Ltd', '01 Aug 2009', '31 Jul 2019', '10', 23950.0, 6600.0, 12250.0, 9500.0, 12000.0, 12750.0, 12750.0, 12750.0, 12750.0, 12750.0, 12750.0, 12750.0, 12750.0, 14730.08, 15296.63, 14730.08, 14730.08, 14730.08, 28327.09, 14730.08, 14730.08, 14730.08, 14730.08, 15296.63, 12750.0, 13000.0, 15000.0, 15000.0, 15000.0, 15000.0, 15000.0, 15000.0, 15000.0, 17000.0, 15000.0, 15000.0, 17000.0, 15000.0, 15000.0, 15000.0, 22500.0, 15000.0], ['Clayton Court', 'Fillingfir Drive', '', 'Leeds', 'LS18', 'Clayton Court LDS198   LS0056', 'Everything Everywhere Ltd & Hutchison 3G Ltd', '01 Aug 2009', '31 Jul 2019', '10', 23950.0, 6600.0, 12250.0, 9500.0, 12000.0, 12750.0, 12750.0, 12750.0, 12750.0, 12750.0, 12750.0, 12750.0, 12750.0, 14730.08, 15296.63, 14730.08, 14730.08, 14730.08, 28327.09, 14730.08, 14730.08, 14730.08, 14730.08, 15296.63, 12750.0, 13000.0, 15000.0, 15000.0, 15000.0, 15000.0, 15000.0, 15000.0, 15000.0, 17000.0, 15000.0, 15000.0, 17000.0, 15000.0, 15000.0, 15000.0, 22500.0, 15000.0], ['Meynell Heights', '', '', '', 'LS11', 'Meynell Heights- Wyk0184', 'Everything Everywhere Ltd & Hutchinson 3G UK', '03 Aug 2009', '02 Aug 2019', '10', 23950.0, 6600.0, 12250.0, 9500.0, 12000.0, 12750.0, 12750.0, 12750.0, 12750.0, 12750.0, 12750.0, 12750.0, 12750.0, 14730.08, 15296.63, 14730.08, 14730.08, 14730.08, 28327.09, 14730.08, 14730.08, 14730.08, 14730.08, 15296.63, 12750.0, 13000.0, 15000.0, 15000.0, 15000.0, 15000.0, 15000.0, 15000.0, 15000.0, 17000.0, 15000.0, 15000.0, 17000.0, 15000.0, 15000.0, 15000.0, 22500.0, 15000.0], ['Larkhill Road', 'Lidgett Towers', 'Larkhill Road', 'Leeds', '', 'Lidgett Towers - Site ref 27874', 'Everything Everywhere Ltd&Hutchison 3G UK Ltd', '05 Jul 2010', '04 Jul 2020', '10', 23950.0, 6600.0, 12250.0, 9500.0, 12000.0, 12750.0, 12750.0, 12750.0, 12750.0, 12750.0, 12750.0, 12750.0, 12750.0, 14730.08, 15296.63, 14730.08, 14730.08, 14730.08, 28327.09, 14730.08, 14730.08, 14730.08, 14730.08, 15296.63, 12750.0, 13000.0, 15000.0, 15000.0, 15000.0, 15000.0, 15000.0, 15000.0, 15000.0, 17000.0, 15000.0, 15000.0, 17000.0, 15000.0, 15000.0, 15000.0, 22500.0, 15000.0], ['Marlborough Towers', 'Marlborough Towers', 'Park Lane', 'Leeds', '', 'Marlborough Towers-Telecom App 7942vf', 'Cornerstone Telecommunications Infrastructure', '31 Mar 2015', '30 Mar 2030', '15', 23950.0, 6600.0, 12250.0, 9500.0, 12000.0, 12750.0, 12750.0, 12750.0, 12750.0, 12750.0, 12750.0, 12750.0, 12750.0, 14730.08, 15296.63, 14730.08, 14730.08, 14730.08, 28327.09, 14730.08, 14730.08, 14730.08, 14730.08, 15296.63, 12750.0, 13000.0, 15000.0, 15000.0, 15000.0, 15000.0, 15000.0, 15000.0, 15000.0, 17000.0, 15000.0, 15000.0, 17000.0, 15000.0, 15000.0, 15000.0, 22500.0, 15000.0], ['Queenswood Drive - Telecom Site', 'Headingley', 'Leeds', 'LS6', '', \"Queenswood Drive-Q'wood Ct building 19089o2\", 'Cornerstone Telecommunications Infrastructure', '31 Mar 2015', '30 Mar 2030', '15', 23950.0, 6600.0, 12250.0, 9500.0, 12000.0, 12750.0, 12750.0, 12750.0, 12750.0, 12750.0, 12750.0, 12750.0, 12750.0, 14730.08, 15296.63, 14730.08, 14730.08, 14730.08, 28327.09, 14730.08, 14730.08, 14730.08, 14730.08, 15296.63, 12750.0, 13000.0, 15000.0, 15000.0, 15000.0, 15000.0, 15000.0, 15000.0, 15000.0, 17000.0, 15000.0, 15000.0, 17000.0, 15000.0, 15000.0, 15000.0, 22500.0, 15000.0], ['Clayton Court', 'Fillingfir', '', 'Leeds', '', 'Clayton Court 11279vf', 'Cornerstone Telecommunications Infrastructure', '31 Mar 2015', '30 Mar 2030', '15', 23950.0, 6600.0, 12250.0, 9500.0, 12000.0, 12750.0, 12750.0, 12750.0, 12750.0, 12750.0, 12750.0, 12750.0, 12750.0, 14730.08, 15296.63, 14730.08, 14730.08, 14730.08, 28327.09, 14730.08, 14730.08, 14730.08, 14730.08, 15296.63, 12750.0, 13000.0, 15000.0, 15000.0, 15000.0, 15000.0, 15000.0, 15000.0, 15000.0, 17000.0, 15000.0, 15000.0, 17000.0, 15000.0, 15000.0, 15000.0, 22500.0, 15000.0], ['Gledhow Towers - Telecom App', 'Brackenwood Drive', 'Leeds', '', '', 'Gledhow Towers - Telecom App (34909vf)', 'Cornerstone Telecommunications Infrastructure', '31 Mar 2015', '30 Mar 2030', '15', 23950.0, 6600.0, 12250.0, 9500.0, 12000.0, 12750.0, 12750.0, 12750.0, 12750.0, 12750.0, 12750.0, 12750.0, 12750.0, 14730.08, 15296.63, 14730.08, 14730.08, 14730.08, 28327.09, 14730.08, 14730.08, 14730.08, 14730.08, 15296.63, 12750.0, 13000.0, 15000.0, 15000.0, 15000.0, 15000.0, 15000.0, 15000.0, 15000.0, 17000.0, 15000.0, 15000.0, 17000.0, 15000.0, 15000.0, 15000.0, 22500.0, 15000.0], ['Larkhill Road', 'Lidgett Towers', 'Larkhill Road', 'Leeds', '', 'Lidgett Towers - Telecom App 3420vf', 'Cornerstone Telecommunications Infrastructure', '31 Mar 2015', '30 Mar 2030', '15', 23950.0, 6600.0, 12250.0, 9500.0, 12000.0, 12750.0, 12750.0, 12750.0, 12750.0, 12750.0, 12750.0, 12750.0, 12750.0, 14730.08, 15296.63, 14730.08, 14730.08, 14730.08, 28327.09, 14730.08, 14730.08, 14730.08, 14730.08, 15296.63, 12750.0, 13000.0, 15000.0, 15000.0, 15000.0, 15000.0, 15000.0, 15000.0, 15000.0, 17000.0, 15000.0, 15000.0, 17000.0, 15000.0, 15000.0, 15000.0, 22500.0, 15000.0], ['Gipton Gate East', 'Oaktree Drive', '', '', '', 'Gipton Gate East 23201vf', 'Cornerstone Telecommunications Infrastructure', '31 Mar 2015', '30 Mar 2030', '15', 23950.0, 6600.0, 12250.0, 9500.0, 12000.0, 12750.0, 12750.0, 12750.0, 12750.0, 12750.0, 12750.0, 12750.0, 12750.0, 14730.08, 15296.63, 14730.08, 14730.08, 14730.08, 28327.09, 14730.08, 14730.08, 14730.08, 14730.08, 15296.63, 12750.0, 13000.0, 15000.0, 15000.0, 15000.0, 15000.0, 15000.0, 15000.0, 15000.0, 17000.0, 15000.0, 15000.0, 17000.0, 15000.0, 15000.0, 15000.0, 22500.0, 15000.0], ['The Heights East', 'Armley', 'Leeds', '', 'LS12', 'The Heights East- 4797o2', 'Cornerstone Telecommunications Infrastructure', '31 Mar 2015', '30 Mar 2030', '15', 23950.0, 6600.0, 12250.0, 9500.0, 12000.0, 12750.0, 12750.0, 12750.0, 12750.0, 12750.0, 12750.0, 12750.0, 12750.0, 14730.08, 15296.63, 14730.08, 14730.08, 14730.08, 28327.09, 14730.08, 14730.08, 14730.08, 14730.08, 15296.63, 12750.0, 13000.0, 15000.0, 15000.0, 15000.0, 15000.0, 15000.0, 15000.0, 15000.0, 17000.0, 15000.0, 15000.0, 17000.0, 15000.0, 15000.0, 15000.0, 22500.0, 15000.0], ['Burnsall Gardens', 'Theaker Lane', '', '', '', 'Burnsall Gardens - Cell No 23144vf', 'Cornerstone Telecommunications Infrastructure', '31 Mar 2015', '30 Mar 2030', '15', 23950.0, 6600.0, 12250.0, 9500.0, 12000.0, 12750.0, 12750.0, 12750.0, 12750.0, 12750.0, 12750.0, 12750.0, 12750.0, 14730.08, 15296.63, 14730.08, 14730.08, 14730.08, 28327.09, 14730.08, 14730.08, 14730.08, 14730.08, 15296.63, 12750.0, 13000.0, 15000.0, 15000.0, 15000.0, 15000.0, 15000.0, 15000.0, 15000.0, 17000.0, 15000.0, 15000.0, 17000.0, 15000.0, 15000.0, 15000.0, 22500.0, 15000.0], ['Poplar Mount', 'Armley', '', '', 'LS13', 'Poplar Mount Telecom Site 34884vf', 'Cornerstone Telecommunications Infrastructure', '31 Mar 2015', '30 Mar 2030', '15', 23950.0, 6600.0, 12250.0, 9500.0, 12000.0, 12750.0, 12750.0, 12750.0, 12750.0, 12750.0, 12750.0, 12750.0, 12750.0, 14730.08, 15296.63, 14730.08, 14730.08, 14730.08, 28327.09, 14730.08, 14730.08, 14730.08, 14730.08, 15296.63, 12750.0, 13000.0, 15000.0, 15000.0, 15000.0, 15000.0, 15000.0, 15000.0, 15000.0, 17000.0, 15000.0, 15000.0, 17000.0, 15000.0, 15000.0, 15000.0, 22500.0, 15000.0], ['Barncroft Court', 'Seacroft', 'Yeb Ref 10463', '', 'LS14', 'Barncroft Court 34196o2', 'Cornerstone Telecommunications Infrastructure', '31 Mar 2015', '30 Mar 2030', '15', 23950.0, 6600.0, 12250.0, 9500.0, 12000.0, 12750.0, 12750.0, 12750.0, 12750.0, 12750.0, 12750.0, 12750.0, 12750.0, 14730.08, 15296.63, 14730.08, 14730.08, 14730.08, 28327.09, 14730.08, 14730.08, 14730.08, 14730.08, 15296.63, 12750.0, 13000.0, 15000.0, 15000.0, 15000.0, 15000.0, 15000.0, 15000.0, 15000.0, 17000.0, 15000.0, 15000.0, 17000.0, 15000.0, 15000.0, 15000.0, 22500.0, 15000.0], ['Barncroft Grange', 'Boggart Hill Drive', 'Seacroft', 'Leeds', 'LS14', 'Barncroft Grange Site 10639vf', 'Cornerstone Telecommunications Infrastructure', '31 Mar 2015', '30 Mar 2030', '15', 23950.0, 6600.0, 12250.0, 9500.0, 12000.0, 12750.0, 12750.0, 12750.0, 12750.0, 12750.0, 12750.0, 12750.0, 12750.0, 14730.08, 15296.63, 14730.08, 14730.08, 14730.08, 28327.09, 14730.08, 14730.08, 14730.08, 14730.08, 15296.63, 12750.0, 13000.0, 15000.0, 15000.0, 15000.0, 15000.0, 15000.0, 15000.0, 15000.0, 17000.0, 15000.0, 15000.0, 17000.0, 15000.0, 15000.0, 15000.0, 22500.0, 15000.0], ['Bailey Lane', 'Baileys Lane', 'Leeds', '', '', 'Baileys Towers, Bailey Lane Ref 33420o2', 'Cornerstone Telecommunications Infrastructure', '31 Mar 2015', '30 Mar 2030', '15', 23950.0, 6600.0, 12250.0, 9500.0, 12000.0, 12750.0, 12750.0, 12750.0, 12750.0, 12750.0, 12750.0, 12750.0, 12750.0, 14730.08, 15296.63, 14730.08, 14730.08, 14730.08, 28327.09, 14730.08, 14730.08, 14730.08, 14730.08, 15296.63, 12750.0, 13000.0, 15000.0, 15000.0, 15000.0, 15000.0, 15000.0, 15000.0, 15000.0, 17000.0, 15000.0, 15000.0, 17000.0, 15000.0, 15000.0, 15000.0, 22500.0, 15000.0], ['Sherburn Court', 'Mill Green', '', 'Leeds', '', 'Sherburn Court CSR 16878o2', 'Cornerstone Telecommunications Infrastructure', '31 Mar 2015', '30 Mar 2030', '15', 23950.0, 6600.0, 12250.0, 9500.0, 12000.0, 12750.0, 12750.0, 12750.0, 12750.0, 12750.0, 12750.0, 12750.0, 12750.0, 14730.08, 15296.63, 14730.08, 14730.08, 14730.08, 28327.09, 14730.08, 14730.08, 14730.08, 14730.08, 15296.63, 12750.0, 13000.0, 15000.0, 15000.0, 15000.0, 15000.0, 15000.0, 15000.0, 15000.0, 17000.0, 15000.0, 15000.0, 17000.0, 15000.0, 15000.0, 15000.0, 22500.0, 15000.0], ['Cartmell Drive', 'Halton Moor', 'Leeds', '', 'LS15', 'Lakeland Court Cell No 35649o2', 'Cornerstone Telecommunications Infrastructure', '31 Mar 2015', '30 Mar 2030', '15', 23950.0, 6600.0, 12250.0, 9500.0, 12000.0, 12750.0, 12750.0, 12750.0, 12750.0, 12750.0, 12750.0, 12750.0, 12750.0, 14730.08, 15296.63, 14730.08, 14730.08, 14730.08, 28327.09, 14730.08, 14730.08, 14730.08, 14730.08, 15296.63, 12750.0, 13000.0, 15000.0, 15000.0, 15000.0, 15000.0, 15000.0, 15000.0, 15000.0, 17000.0, 15000.0, 15000.0, 17000.0, 15000.0, 15000.0, 15000.0, 22500.0, 15000.0], ['Norman Towers (Telecom Appar)', 'Spen Lane', 'Leeds', '', 'LS16', 'Norman Towers (Telecom Appar) 1701o2', 'Cornerstone Telecommunications Infrastructure', '31 Mar 2015', '30 Mar 2030', '15', 23950.0, 6600.0, 12250.0, 9500.0, 12000.0, 12750.0, 12750.0, 12750.0, 12750.0, 12750.0, 12750.0, 12750.0, 12750.0, 14730.08, 15296.63, 14730.08, 14730.08, 14730.08, 28327.09, 14730.08, 14730.08, 14730.08, 14730.08, 15296.63, 12750.0, 13000.0, 15000.0, 15000.0, 15000.0, 15000.0, 15000.0, 15000.0, 15000.0, 17000.0, 15000.0, 15000.0, 17000.0, 15000.0, 15000.0, 15000.0, 22500.0, 15000.0], ['King Lane', 'Leafield Towers', 'Leeds', '', 'LS16', 'Leafield Towers - Cell 5516vf', 'Cornerstone Telecommunications Infrastructure', '31 Mar 2015', '30 Mar 2030', '15', 23950.0, 6600.0, 12250.0, 9500.0, 12000.0, 12750.0, 12750.0, 12750.0, 12750.0, 12750.0, 12750.0, 12750.0, 12750.0, 14730.08, 15296.63, 14730.08, 14730.08, 14730.08, 28327.09, 14730.08, 14730.08, 14730.08, 14730.08, 15296.63, 12750.0, 13000.0, 15000.0, 15000.0, 15000.0, 15000.0, 15000.0, 15000.0, 15000.0, 17000.0, 15000.0, 15000.0, 17000.0, 15000.0, 15000.0, 15000.0, 22500.0, 15000.0]]\n"
     ]
    }
   ],
   "source": [
    "with open('Dataset.csv') as f:\n",
    "    prices = []\n",
    "    new_list = []\n",
    "    prop1 = []\n",
    "    prop2 = []\n",
    "    prop3 = []\n",
    "    prop4 = []\n",
    "    unit = []\n",
    "    tenant = []\n",
    "    lease_date = []\n",
    "    lease_end = []\n",
    "    lease_years = []\n",
    "    current_rent = []\n",
    "    reader = csv.reader(f, delimiter=',')\n",
    "    for ind, x in enumerate(reader):\n",
    "        if ind == 0:\n",
    "            cols = x\n",
    "        else:\n",
    "            new_list.append(x[:-1])\n",
    "            prices.append(x[-1])\n",
    "# print(prices)\n",
    "# print(new_list)\n",
    "# print(cols)\n",
    "prices = list(map(lambda x: float(x), prices))\n",
    "\n",
    "\n",
    "print(new_list)\n",
    "# list(map(lambda x, y: x.append(y), new_list, prices))\n",
    "# list(zip(new_list, prices))\n",
    "\n",
    "#     new = list(reader)[0]\n",
    "#     cols = list(reader)[0]\n",
    "#     print(list(reader)[1])\n",
    "#     cols, data = list(reader)[0], list(reader)[1:]\n",
    "#     print(cols)"
   ]
  },
  {
   "cell_type": "code",
   "execution_count": 97,
   "metadata": {},
   "outputs": [
    {
     "name": "stdout",
     "output_type": "stream",
     "text": [
      "[['Queens View', 'Seacroft', '', '', 'LS14', 'Queens View LDS232   LS0098', 'Everything Everywhere Ltd&Hutchison 3G UK Ltd', '01/08/2009', '31/07/2019', 10, 28327.09], ['Beecroft Hill', 'Broad Lane', '', '', 'LS13', 'Beecroft Hill - Telecom App', 'Arqiva Services ltd', '01/03/1994', '28/02/2058', 64, 23950.0], ['Norman Towers (Telecom Appar)', 'Spen Lane', 'Leeds', '', 'LS16', 'Norman Towers (Telecom Appar) 1701o2', 'Cornerstone Telecommunications Infrastructure', '31/03/2015', '30/03/2030', 15, 22500.0], ['Burnsall Gardens', 'Theaker Lane', '', '', '', 'Burnsall Gardens - Cell No 23144vf', 'Cornerstone Telecommunications Infrastructure', '31/03/2015', '30/03/2030', 15, 17000.0], ['Barncroft Grange', 'Boggart Hill Drive', 'Seacroft', 'Leeds', 'LS14', 'Barncroft Grange Site 10639vf', 'Cornerstone Telecommunications Infrastructure', '31/03/2015', '30/03/2030', 15, 17000.0], ['Oatland Towers', 'Little London', '', 'Leeds', '', 'Oatland Towers LDS133   99603', 'Everything Everywhere Ltd&Hutchison 3G UK Ltd', '01/08/2009', '31/07/2019', 10, 15296.63], ['Clayton Court', 'Fillingfir Drive', '', 'Leeds', 'LS18', 'Clayton Court LDS198   LS0056', 'Everything Everywhere Ltd & Hutchison 3G Ltd', '01/08/2009', '31/07/2019', 10, 15296.63], ['Marlborough Towers', 'Marlborough Towers', 'Park Lane', 'Leeds', '', 'Marlborough Towers-Telecom App 7942vf', 'Cornerstone Telecommunications Infrastructure', '31/03/2015', '30/03/2030', 15, 15000.0], ['Queenswood Drive - Telecom Site', 'Headingley', 'Leeds', 'LS6', '', \"Queenswood Drive-Q'wood Ct building 19089o2\", 'Cornerstone Telecommunications Infrastructure', '31/03/2015', '30/03/2030', 15, 15000.0], ['Clayton Court', 'Fillingfir', '', 'Leeds', '', 'Clayton Court 11279vf', 'Cornerstone Telecommunications Infrastructure', '31/03/2015', '30/03/2030', 15, 15000.0], ['Gledhow Towers - Telecom App', 'Brackenwood Drive', 'Leeds', '', '', 'Gledhow Towers - Telecom App (34909vf)', 'Cornerstone Telecommunications Infrastructure', '31/03/2015', '30/03/2030', 15, 15000.0], ['Larkhill Road', 'Lidgett Towers', 'Larkhill Road', 'Leeds', '', 'Lidgett Towers - Telecom App 3420vf', 'Cornerstone Telecommunications Infrastructure', '31/03/2015', '30/03/2030', 15, 15000.0], ['Gipton Gate East', 'Oaktree Drive', '', '', '', 'Gipton Gate East 23201vf', 'Cornerstone Telecommunications Infrastructure', '31/03/2015', '30/03/2030', 15, 15000.0], ['The Heights East', 'Armley', 'Leeds', '', 'LS12', 'The Heights East- 4797o2', 'Cornerstone Telecommunications Infrastructure', '31/03/2015', '30/03/2030', 15, 15000.0], ['Poplar Mount', 'Armley', '', '', 'LS13', 'Poplar Mount Telecom Site 34884vf', 'Cornerstone Telecommunications Infrastructure', '31/03/2015', '30/03/2030', 15, 15000.0], ['Barncroft Court', 'Seacroft', 'Yeb Ref 10463', '', 'LS14', 'Barncroft Court 34196o2', 'Cornerstone Telecommunications Infrastructure', '31/03/2015', '30/03/2030', 15, 15000.0], ['Bailey Lane', 'Baileys Lane', 'Leeds', '', '', 'Baileys Towers, Bailey Lane Ref 33420o2', 'Cornerstone Telecommunications Infrastructure', '31/03/2015', '30/03/2030', 15, 15000.0], ['Sherburn Court', 'Mill Green', '', 'Leeds', '', 'Sherburn Court CSR 16878o2', 'Cornerstone Telecommunications Infrastructure', '31/03/2015', '30/03/2030', 15, 15000.0], ['Cartmell Drive', 'Halton Moor', 'Leeds', '', 'LS15', 'Lakeland Court Cell No 35649o2', 'Cornerstone Telecommunications Infrastructure', '31/03/2015', '30/03/2030', 15, 15000.0], ['King Lane', 'Leafield Towers', 'Leeds', '', 'LS16', 'Leafield Towers - Cell 5516vf', 'Cornerstone Telecommunications Infrastructure', '31/03/2015', '30/03/2030', 15, 15000.0], ['Grayson Heights', 'Eden Mount', 'Burley Park', 'Leeds', 'LS5', 'Grayson Heights LDS175   LS0029', 'Everything Everywhere Ltd&Hutchison 3G UK Ltd', '01/08/2009', '31/07/2019', 10, 14730.08], ['The Heights East', 'Gamble Hill', 'Bramley', 'Leeds 12', '', 'The Heights East LDS045   55032', 'Everything Everywhere Ltd&Hutchison 3G UK Ltd', '01/08/2009', '31/07/2019', 10, 14730.08], ['The Heights', 'Farrow Bank Gamble Hill', 'Leeds', '', '', 'Raynville Court LDS047   55035', 'Everything Everywhere Ltd&Hutchison 3G UK LTd', '01/08/2009', '31/07/2019', 10, 14730.08], ['Barncroft Towers', 'Seacroft', 'Yeb Ref 10462', '', 'LS14', 'Barncroft Towers - Site Ref LDS138   99632', 'Everything Everywhere Ltd&Hutchison 3G UK Ltd', '01/08/2009', '31/07/2019', 10, 14730.08], ['Parkway Grange', 'Foundry Lane', 'Leeds', '', 'LS14', 'Parkway Grange - Site Ref LDS134   99604', 'Everything Everywhere Ltd&Hutchsion 3G UK Ltd', '01/08/2009', '31/07/2019', 10, 14730.08], ['Seacroft Gate Block 1', 'Eastdean', 'Leeds', '', '', 'Seacroft Gate Block 1 LDS032   55007', 'Everything Everywhere Ltd&Hutchison 3G UK Ltd', '01/08/2009', '31/07/2019', 10, 14730.08], ['Cartmell Drive', 'Halton Moor', 'Leeds', '', 'LS15', 'Lakeland Court Flats Cell LDS142   99925', 'Everything Everywhere Ltd&Hutchison 3G UK Ltd', '01/08/2009', '31/07/2019', 10, 14730.08], ['Norman Towers (Telecom Appar)', 'Spen Lane', 'Leeds', '', 'LS16', 'Norman Towers LDS132 (Telecom Appar)   99448', 'Everything Everywhere Ltd&Hutchsion 3G Ltd', '01/08/2009', '31/07/2019', 10, 14730.08], ['Larkhill Road', 'Lidgett Towers', 'Larkhill Road', 'Leeds', '', 'Lidgett Towers - Site ref 27874', 'Everything Everywhere Ltd&Hutchison 3G UK Ltd', '05/07/2010', '04/07/2020', 10, 13000.0], ['Seacroft Gate (Chase) - Block 2', 'Telecomms Apparatus', 'Leeds', '', 'LS14', 'Seacroft Gate (Chase) - Block 2, WYK 0414', 'Hutchinson3G Uk Ltd&Everything Everywhere Ltd', '21/08/2007', '20/08/2032', 25, 12750.0], ['Cottingley Towers', 'Leeds', '', '', 'LS11', 'Cottingley Towers-WYK0052', 'Everything Everywhere Ltd', '28/01/2008', '27/01/2018', 10, 12750.0], ['Potternewton Heights - Tel App', 'Potternewton Heights', 'Potternewton Lne', 'Leeds', '', 'Potternewton Heights', 'Everything Everywhere Ltd', '04/03/2008', '03/03/2018', 10, 12750.0], ['Gipton Gate West', 'Leeds', '', '', 'LS9', 'Gipton Gate West-WYK0021', 'Everything Everywhere Ltd & Hutchinson 3G UK', '01/04/2008', '31/03/2018', 10, 12750.0], ['Theaker Lane', 'Burnsall Grange', 'Leeds', '', 'LS12', 'Burnsall Grange - WYK0144', 'Everything Everywhere Ltd', '29/04/2008', '28/04/2018', 10, 12750.0], ['Gledhow Towers - Telecom App', 'Brackenwood Drive', 'Leeds', '', '', 'Gledhow Towers - WYK0188', 'Everything Everywhere Ltd & Hutchinson 3G UK', '20/05/2008', '19/05/2018', 10, 12750.0], ['Lovell Park Heights', 'Yeb', '', '', 'LS7', 'Lovell Park Heights-- WYK0207', 'Everything Everywhere Ltd', '17/06/2008', '16/06/2018', 10, 12750.0], ['Shakespeare Towers', '', '', '', 'LS9', 'Shakespeare Towers ref 1704255985', 'EverythingEverywhere Ltd & Hutchinson3GUK Ltd', '10/06/2009', '09/06/2019', 10, 12750.0], ['Meynell Heights', '', '', '', 'LS11', 'Meynell Heights- Wyk0184', 'Everything Everywhere Ltd & Hutchinson 3G UK', '03/08/2009', '02/08/2019', 10, 12750.0], ['Seacroft Gate (Chase) - Block 2', 'Telecomms Apparatus', 'Leeds', '', 'LS14', 'Seacroft Gate (Chase) block 2-Telecom App.', 'Vodafone Ltd.', '30/01/2004', '29/01/2029', 25, 12250.0], ['Armley - Burnsall Grange', 'Armley', 'LS13', '', '', 'Burnsall Grange CSR 37865', 'O2 (UK) Ltd', '26/07/2007', '25/07/2032', 25, 12000.0], ['Queenswood Heights', 'Queenswood Heights', 'Queenswood Gardens', 'Headingley', 'Leeds', 'Queenswood Hgt-Telecom App.', 'Vodafone Ltd', '08/11/2004', '07/11/2029', 25, 9500.0], ['Potternewton Crescent', 'Potternewton Est Playing Field', '', '', 'LS7', 'Potternewton Est Playing Field', 'Arqiva Ltd', '24/06/1999', '23/06/2019', 20, 6600.0]]\n",
      "[['Seacroft Gate (Chase) - Block 2', 'Telecomms Apparatus', 'Leeds', '', 'LS14', 'Seacroft Gate (Chase) block 2-Telecom App.', 'Vodafone Ltd.', '30/01/2004', '29/01/2029', 25, 12250.0], ['Queenswood Heights', 'Queenswood Heights', 'Queenswood Gardens', 'Headingley', 'Leeds', 'Queenswood Hgt-Telecom App.', 'Vodafone Ltd', '08/11/2004', '07/11/2029', 25, 9500.0], ['Armley - Burnsall Grange', 'Armley', 'LS13', '', '', 'Burnsall Grange CSR 37865', 'O2 (UK) Ltd', '26/07/2007', '25/07/2032', 25, 12000.0], ['Seacroft Gate (Chase) - Block 2', 'Telecomms Apparatus', 'Leeds', '', 'LS14', 'Seacroft Gate (Chase) - Block 2, WYK 0414', 'Hutchinson3G Uk Ltd&Everything Everywhere Ltd', '21/08/2007', '20/08/2032', 25, 12750.0]]\n"
     ]
    }
   ],
   "source": [
    "k = []\n",
    "with open('Dataset.csv') as f:\n",
    "    reader = csv.reader(f, delimiter=',')\n",
    "    new_list = list(reader).copy()\n",
    "    for ind, x in enumerate(new_list):\n",
    "        if ind == 0:\n",
    "            pass\n",
    "        else:\n",
    "            x[-1] = float(x[-1])\n",
    "            x[7] = datetime.strptime(x[7], '%d %b %Y').strftime('%d/%m/%Y')\n",
    "            x[8] = datetime.strptime(x[8], '%d %b %Y').strftime('%d/%m/%Y')\n",
    "            x[9] = int(x[9])\n",
    "            if x[9] == 25:\n",
    "                k.append(x)\n",
    "            if <x[8] <\n",
    "#             print(x)\n",
    "#     print(new_list)\n",
    "    new_list = sorted(new_list[1:], key = lambda x:x[-1], reverse=True)\n",
    "    print(new_list)\n",
    "    print(k)\n",
    "#             print(x[7], x[8])\n",
    "#             x[-1] = float(x[-1])\n",
    "#             print(i)\n",
    "#     doc = map(lambda x: float(x[-1]), list(reader)[1:].copy())\n"
   ]
  },
  {
   "cell_type": "code",
   "execution_count": 50,
   "metadata": {},
   "outputs": [],
   "source": [
    "from datetime import datetime\n",
    "from operator import itemgetter"
   ]
  },
  {
   "cell_type": "code",
   "execution_count": 37,
   "metadata": {},
   "outputs": [],
   "source": [
    "a='29 Jan 2029'"
   ]
  },
  {
   "cell_type": "code",
   "execution_count": 41,
   "metadata": {},
   "outputs": [],
   "source": [
    "p = datetime.strptime(a, '%d %b %Y').strftime('%d/%m/%Y')\n",
    "# p.strftime('%d/%m/%Y')"
   ]
  },
  {
   "cell_type": "code",
   "execution_count": 42,
   "metadata": {},
   "outputs": [
    {
     "data": {
      "text/plain": [
       "'29/01/2029'"
      ]
     },
     "execution_count": 42,
     "metadata": {},
     "output_type": "execute_result"
    }
   ],
   "source": [
    "p"
   ]
  },
  {
   "cell_type": "code",
   "execution_count": 79,
   "metadata": {},
   "outputs": [
    {
     "name": "stdout",
     "output_type": "stream",
     "text": [
      "[['Armley - Burnsall Grange', 'Armley', 'LS13', '', '', 'Burnsall Grange CSR 37865', 'O2 (UK) Ltd', '26 Jul 2007', '25 Jul 2032', '25', '12000.00'], ['Seacroft Gate (Chase) - Block 2', 'Telecomms Apparatus', 'Leeds', '', 'LS14', 'Seacroft Gate (Chase) block 2-Telecom App.', 'Vodafone Ltd.', '30 Jan 2004', '29 Jan 2029', '25', '12250.00'], ['Seacroft Gate (Chase) - Block 2', 'Telecomms Apparatus', 'Leeds', '', 'LS14', 'Seacroft Gate (Chase) - Block 2, WYK 0414', 'Hutchinson3G Uk Ltd&Everything Everywhere Ltd', '21 Aug 2007', '20 Aug 2032', '25', '12750.00'], ['Cottingley Towers', 'Leeds', '', '', 'LS11', 'Cottingley Towers-WYK0052', 'Everything Everywhere Ltd', '28 Jan 2008', '27 Jan 2018', '10', '12750.00'], ['Potternewton Heights - Tel App', 'Potternewton Heights', 'Potternewton Lne', 'Leeds', '', 'Potternewton Heights', 'Everything Everywhere Ltd', '04 Mar 2008', '03 Mar 2018', '10', '12750.00'], ['Gipton Gate West', 'Leeds', '', '', 'LS9', 'Gipton Gate West-WYK0021', 'Everything Everywhere Ltd & Hutchinson 3G UK', '01 Apr 2008', '31 Mar 2018', '10', '12750.00'], ['Theaker Lane', 'Burnsall Grange', 'Leeds', '', 'LS12', 'Burnsall Grange - WYK0144', 'Everything Everywhere Ltd', '29 Apr 2008', '28 Apr 2018', '10', '12750.00'], ['Gledhow Towers - Telecom App', 'Brackenwood Drive', 'Leeds', '', '', 'Gledhow Towers - WYK0188', 'Everything Everywhere Ltd & Hutchinson 3G UK', '20 May 2008', '19 May 2018', '10', '12750.00'], ['Lovell Park Heights', 'Yeb', '', '', 'LS7', 'Lovell Park Heights-- WYK0207', 'Everything Everywhere Ltd', '17 Jun 2008', '16 Jun 2018', '10', '12750.00'], ['Shakespeare Towers', '', '', '', 'LS9', 'Shakespeare Towers ref 1704255985', 'EverythingEverywhere Ltd & Hutchinson3GUK Ltd', '10 Jun 2009', '09 Jun 2019', '10', '12750.00'], ['Meynell Heights', '', '', '', 'LS11', 'Meynell Heights- Wyk0184', 'Everything Everywhere Ltd & Hutchinson 3G UK', '03 Aug 2009', '02 Aug 2019', '10', '12750.00'], ['Larkhill Road', 'Lidgett Towers', 'Larkhill Road', 'Leeds', '', 'Lidgett Towers - Site ref 27874', 'Everything Everywhere Ltd&Hutchison 3G UK Ltd', '05 Jul 2010', '04 Jul 2020', '10', '13000.00'], ['Grayson Heights', 'Eden Mount', 'Burley Park', 'Leeds', 'LS5', 'Grayson Heights LDS175   LS0029', 'Everything Everywhere Ltd&Hutchison 3G UK Ltd', '01 Aug 2009', '31 Jul 2019', '10', '14730.08'], ['The Heights East', 'Gamble Hill', 'Bramley', 'Leeds 12', '', 'The Heights East LDS045   55032', 'Everything Everywhere Ltd&Hutchison 3G UK Ltd', '01 Aug 2009', '31 Jul 2019', '10', '14730.08'], ['The Heights', 'Farrow Bank Gamble Hill', 'Leeds', '', '', 'Raynville Court LDS047   55035', 'Everything Everywhere Ltd&Hutchison 3G UK LTd', '01 Aug 2009', '31 Jul 2019', '10', '14730.08'], ['Barncroft Towers', 'Seacroft', 'Yeb Ref 10462', '', 'LS14', 'Barncroft Towers - Site Ref LDS138   99632', 'Everything Everywhere Ltd&Hutchison 3G UK Ltd', '01 Aug 2009', '31 Jul 2019', '10', '14730.08'], ['Parkway Grange', 'Foundry Lane', 'Leeds', '', 'LS14', 'Parkway Grange - Site Ref LDS134   99604', 'Everything Everywhere Ltd&Hutchsion 3G UK Ltd', '01 Aug 2009', '31 Jul 2019', '10', '14730.08'], ['Seacroft Gate Block 1', 'Eastdean', 'Leeds', '', '', 'Seacroft Gate Block 1 LDS032   55007', 'Everything Everywhere Ltd&Hutchison 3G UK Ltd', '01 Aug 2009', '31 Jul 2019', '10', '14730.08'], ['Cartmell Drive', 'Halton Moor', 'Leeds', '', 'LS15', 'Lakeland Court Flats Cell LDS142   99925', 'Everything Everywhere Ltd&Hutchison 3G UK Ltd', '01 Aug 2009', '31 Jul 2019', '10', '14730.08'], ['Norman Towers (Telecom Appar)', 'Spen Lane', 'Leeds', '', 'LS16', 'Norman Towers LDS132 (Telecom Appar)   99448', 'Everything Everywhere Ltd&Hutchsion 3G Ltd', '01 Aug 2009', '31 Jul 2019', '10', '14730.08'], ['Marlborough Towers', 'Marlborough Towers', 'Park Lane', 'Leeds', '', 'Marlborough Towers-Telecom App 7942vf', 'Cornerstone Telecommunications Infrastructure', '31 Mar 2015', '30 Mar 2030', '15', '15000.00'], ['Queenswood Drive - Telecom Site', 'Headingley', 'Leeds', 'LS6', '', \"Queenswood Drive-Q'wood Ct building 19089o2\", 'Cornerstone Telecommunications Infrastructure', '31 Mar 2015', '30 Mar 2030', '15', '15000.00'], ['Clayton Court', 'Fillingfir', '', 'Leeds', '', 'Clayton Court 11279vf', 'Cornerstone Telecommunications Infrastructure', '31 Mar 2015', '30 Mar 2030', '15', '15000.00'], ['Gledhow Towers - Telecom App', 'Brackenwood Drive', 'Leeds', '', '', 'Gledhow Towers - Telecom App (34909vf)', 'Cornerstone Telecommunications Infrastructure', '31 Mar 2015', '30 Mar 2030', '15', '15000.00'], ['Larkhill Road', 'Lidgett Towers', 'Larkhill Road', 'Leeds', '', 'Lidgett Towers - Telecom App 3420vf', 'Cornerstone Telecommunications Infrastructure', '31 Mar 2015', '30 Mar 2030', '15', '15000.00'], ['Gipton Gate East', 'Oaktree Drive', '', '', '', 'Gipton Gate East 23201vf', 'Cornerstone Telecommunications Infrastructure', '31 Mar 2015', '30 Mar 2030', '15', '15000.00'], ['The Heights East', 'Armley', 'Leeds', '', 'LS12', 'The Heights East- 4797o2', 'Cornerstone Telecommunications Infrastructure', '31 Mar 2015', '30 Mar 2030', '15', '15000.00'], ['Poplar Mount', 'Armley', '', '', 'LS13', 'Poplar Mount Telecom Site 34884vf', 'Cornerstone Telecommunications Infrastructure', '31 Mar 2015', '30 Mar 2030', '15', '15000.00'], ['Barncroft Court', 'Seacroft', 'Yeb Ref 10463', '', 'LS14', 'Barncroft Court 34196o2', 'Cornerstone Telecommunications Infrastructure', '31 Mar 2015', '30 Mar 2030', '15', '15000.00'], ['Bailey Lane', 'Baileys Lane', 'Leeds', '', '', 'Baileys Towers, Bailey Lane Ref 33420o2', 'Cornerstone Telecommunications Infrastructure', '31 Mar 2015', '30 Mar 2030', '15', '15000.00'], ['Sherburn Court', 'Mill Green', '', 'Leeds', '', 'Sherburn Court CSR 16878o2', 'Cornerstone Telecommunications Infrastructure', '31 Mar 2015', '30 Mar 2030', '15', '15000.00'], ['Cartmell Drive', 'Halton Moor', 'Leeds', '', 'LS15', 'Lakeland Court Cell No 35649o2', 'Cornerstone Telecommunications Infrastructure', '31 Mar 2015', '30 Mar 2030', '15', '15000.00'], ['King Lane', 'Leafield Towers', 'Leeds', '', 'LS16', 'Leafield Towers - Cell 5516vf', 'Cornerstone Telecommunications Infrastructure', '31 Mar 2015', '30 Mar 2030', '15', '15000.00'], ['Oatland Towers', 'Little London', '', 'Leeds', '', 'Oatland Towers LDS133   99603', 'Everything Everywhere Ltd&Hutchison 3G UK Ltd', '01 Aug 2009', '31 Jul 2019', '10', '15296.63'], ['Clayton Court', 'Fillingfir Drive', '', 'Leeds', 'LS18', 'Clayton Court LDS198   LS0056', 'Everything Everywhere Ltd & Hutchison 3G Ltd', '01 Aug 2009', '31 Jul 2019', '10', '15296.63'], ['Burnsall Gardens', 'Theaker Lane', '', '', '', 'Burnsall Gardens - Cell No 23144vf', 'Cornerstone Telecommunications Infrastructure', '31 Mar 2015', '30 Mar 2030', '15', '17000.00'], ['Barncroft Grange', 'Boggart Hill Drive', 'Seacroft', 'Leeds', 'LS14', 'Barncroft Grange Site 10639vf', 'Cornerstone Telecommunications Infrastructure', '31 Mar 2015', '30 Mar 2030', '15', '17000.00'], ['Norman Towers (Telecom Appar)', 'Spen Lane', 'Leeds', '', 'LS16', 'Norman Towers (Telecom Appar) 1701o2', 'Cornerstone Telecommunications Infrastructure', '31 Mar 2015', '30 Mar 2030', '15', '22500.00'], ['Beecroft Hill', 'Broad Lane', '', '', 'LS13', 'Beecroft Hill - Telecom App', 'Arqiva Services ltd', '01 Mar 1994', '28 Feb 2058', '64', '23950.00'], ['Queens View', 'Seacroft', '', '', 'LS14', 'Queens View LDS232   LS0098', 'Everything Everywhere Ltd&Hutchison 3G UK Ltd', '01 Aug 2009', '31 Jul 2019', '10', '28327.09'], ['Potternewton Crescent', 'Potternewton Est Playing Field', '', '', 'LS7', 'Potternewton Est Playing Field', 'Arqiva Ltd', '24 Jun 1999', '23 Jun 2019', '20', '6600.00'], ['Queenswood Heights', 'Queenswood Heights', 'Queenswood Gardens', 'Headingley', 'Leeds', 'Queenswood Hgt-Telecom App.', 'Vodafone Ltd', '08 Nov 2004', '07 Nov 2029', '25', '9500.00'], ['Property Name', 'Property Address [1]', 'Property  Address [2]', 'Property Address [3]', 'Property Address [4]', 'Unit Name', 'Tenant Name', 'Lease Start Date', 'Lease End Date', 'Lease Years', 'Current Rent']]\n"
     ]
    }
   ],
   "source": [
    "with open('Dataset.csv') as f:\n",
    "    reader = csv.reader(f, delimiter=',')\n",
    "    print(sorted(reader, key = lambda x:x[-1]))"
   ]
  },
  {
   "cell_type": "code",
   "execution_count": 93,
   "metadata": {},
   "outputs": [],
   "source": [
    "l = [[1,2,3,4,5]]"
   ]
  },
  {
   "cell_type": "code",
   "execution_count": 94,
   "metadata": {},
   "outputs": [],
   "source": [
    "l[0].insert(0, 0)"
   ]
  },
  {
   "cell_type": "code",
   "execution_count": 95,
   "metadata": {},
   "outputs": [
    {
     "data": {
      "text/plain": [
       "[[0, 1, 2, 3, 4, 5]]"
      ]
     },
     "execution_count": 95,
     "metadata": {},
     "output_type": "execute_result"
    }
   ],
   "source": [
    "l"
   ]
  },
  {
   "cell_type": "code",
   "execution_count": null,
   "metadata": {},
   "outputs": [],
   "source": []
  }
 ],
 "metadata": {
  "kernelspec": {
   "display_name": "Python 3",
   "language": "python",
   "name": "python3"
  },
  "language_info": {
   "codemirror_mode": {
    "name": "ipython",
    "version": 3
   },
   "file_extension": ".py",
   "mimetype": "text/x-python",
   "name": "python",
   "nbconvert_exporter": "python",
   "pygments_lexer": "ipython3",
   "version": "3.7.4"
  }
 },
 "nbformat": 4,
 "nbformat_minor": 2
}
